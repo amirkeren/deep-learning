{
 "cells": [
  {
   "cell_type": "markdown",
   "metadata": {
    "collapsed": true
   },
   "source": [
    "# Language Translation\n",
    "In this project, you’re going to take a peek into the realm of neural network machine translation.  You’ll be training a sequence to sequence model on a dataset of English and French sentences that can translate new sentences from English to French.\n",
    "## Get the Data\n",
    "Since translating the whole language of English to French will take lots of time to train, we have provided you with a small portion of the English corpus."
   ]
  },
  {
   "cell_type": "code",
   "execution_count": 1,
   "metadata": {
    "collapsed": true
   },
   "outputs": [],
   "source": [
    "\"\"\"\n",
    "DON'T MODIFY ANYTHING IN THIS CELL\n",
    "\"\"\"\n",
    "import helper\n",
    "import problem_unittests as tests\n",
    "\n",
    "source_path = 'data/small_vocab_en'\n",
    "target_path = 'data/small_vocab_fr'\n",
    "source_text = helper.load_data(source_path)\n",
    "target_text = helper.load_data(target_path)"
   ]
  },
  {
   "cell_type": "markdown",
   "metadata": {},
   "source": [
    "## Explore the Data\n",
    "Play around with view_sentence_range to view different parts of the data."
   ]
  },
  {
   "cell_type": "code",
   "execution_count": 2,
   "metadata": {},
   "outputs": [
    {
     "name": "stdout",
     "output_type": "stream",
     "text": [
      "Dataset Stats\n",
      "Roughly the number of unique words: 227\n",
      "Number of sentences: 137861\n",
      "Average number of words in a sentence: 13.225277634719028\n",
      "\n",
      "English sentences 0 to 10:\n",
      "new jersey is sometimes quiet during autumn , and it is snowy in april .\n",
      "the united states is usually chilly during july , and it is usually freezing in november .\n",
      "california is usually quiet during march , and it is usually hot in june .\n",
      "the united states is sometimes mild during june , and it is cold in september .\n",
      "your least liked fruit is the grape , but my least liked is the apple .\n",
      "his favorite fruit is the orange , but my favorite is the grape .\n",
      "paris is relaxing during december , but it is usually chilly in july .\n",
      "new jersey is busy during spring , and it is never hot in march .\n",
      "our least liked fruit is the lemon , but my least liked is the grape .\n",
      "the united states is sometimes busy during january , and it is sometimes warm in november .\n",
      "\n",
      "French sentences 0 to 10:\n",
      "new jersey est parfois calme pendant l' automne , et il est neigeux en avril .\n",
      "les états-unis est généralement froid en juillet , et il gèle habituellement en novembre .\n",
      "california est généralement calme en mars , et il est généralement chaud en juin .\n",
      "les états-unis est parfois légère en juin , et il fait froid en septembre .\n",
      "votre moins aimé fruit est le raisin , mais mon moins aimé est la pomme .\n",
      "son fruit préféré est l'orange , mais mon préféré est le raisin .\n",
      "paris est relaxant en décembre , mais il est généralement froid en juillet .\n",
      "new jersey est occupé au printemps , et il est jamais chaude en mars .\n",
      "notre fruit est moins aimé le citron , mais mon moins aimé est le raisin .\n",
      "les états-unis est parfois occupé en janvier , et il est parfois chaud en novembre .\n"
     ]
    }
   ],
   "source": [
    "view_sentence_range = (0, 10)\n",
    "\n",
    "\"\"\"\n",
    "DON'T MODIFY ANYTHING IN THIS CELL\n",
    "\"\"\"\n",
    "import numpy as np\n",
    "\n",
    "print('Dataset Stats')\n",
    "print('Roughly the number of unique words: {}'.format(len({word: None for word in source_text.split()})))\n",
    "\n",
    "sentences = source_text.split('\\n')\n",
    "word_counts = [len(sentence.split()) for sentence in sentences]\n",
    "print('Number of sentences: {}'.format(len(sentences)))\n",
    "print('Average number of words in a sentence: {}'.format(np.average(word_counts)))\n",
    "\n",
    "print()\n",
    "print('English sentences {} to {}:'.format(*view_sentence_range))\n",
    "print('\\n'.join(source_text.split('\\n')[view_sentence_range[0]:view_sentence_range[1]]))\n",
    "print()\n",
    "print('French sentences {} to {}:'.format(*view_sentence_range))\n",
    "print('\\n'.join(target_text.split('\\n')[view_sentence_range[0]:view_sentence_range[1]]))"
   ]
  },
  {
   "cell_type": "markdown",
   "metadata": {},
   "source": [
    "## Implement Preprocessing Function\n",
    "### Text to Word Ids\n",
    "As you did with other RNNs, you must turn the text into a number so the computer can understand it. In the function `text_to_ids()`, you'll turn `source_text` and `target_text` from words to ids.  However, you need to add the `<EOS>` word id at the end of `target_text`.  This will help the neural network predict when the sentence should end.\n",
    "\n",
    "You can get the `<EOS>` word id by doing:\n",
    "```python\n",
    "target_vocab_to_int['<EOS>']\n",
    "```\n",
    "You can get other word ids using `source_vocab_to_int` and `target_vocab_to_int`."
   ]
  },
  {
   "cell_type": "code",
   "execution_count": 3,
   "metadata": {},
   "outputs": [
    {
     "name": "stdout",
     "output_type": "stream",
     "text": [
      "Tests Passed\n"
     ]
    }
   ],
   "source": [
    "def text_to_ids(source_text, target_text, source_vocab_to_int, target_vocab_to_int):\n",
    "    \"\"\"\n",
    "    Convert source and target text to proper word ids\n",
    "    :param source_text: String that contains all the source text.\n",
    "    :param target_text: String that contains all the target text.\n",
    "    :param source_vocab_to_int: Dictionary to go from the source words to an id\n",
    "    :param target_vocab_to_int: Dictionary to go from the target words to an id\n",
    "    :return: A tuple of lists (source_id_text, target_id_text)\n",
    "    \"\"\"\n",
    "    source_id_text = [[source_vocab_to_int[word] for word in sentence.split()] for sentence in source_text.split('\\n')]\n",
    "    target_id_text = [[target_vocab_to_int[word] for word in sentence.split()] for sentence in target_text.split('\\n')]\n",
    "    for x in target_id_text: x.append(target_vocab_to_int['<EOS>'])\n",
    "    return source_id_text, target_id_text\n",
    "\n",
    "\"\"\"\n",
    "DON'T MODIFY ANYTHING IN THIS CELL THAT IS BELOW THIS LINE\n",
    "\"\"\"\n",
    "tests.test_text_to_ids(text_to_ids)"
   ]
  },
  {
   "cell_type": "markdown",
   "metadata": {},
   "source": [
    "### Preprocess all the data and save it\n",
    "Running the code cell below will preprocess all the data and save it to file."
   ]
  },
  {
   "cell_type": "code",
   "execution_count": 4,
   "metadata": {
    "collapsed": true
   },
   "outputs": [],
   "source": [
    "\"\"\"\n",
    "DON'T MODIFY ANYTHING IN THIS CELL\n",
    "\"\"\"\n",
    "helper.preprocess_and_save_data(source_path, target_path, text_to_ids)"
   ]
  },
  {
   "cell_type": "markdown",
   "metadata": {},
   "source": [
    "# Check Point\n",
    "This is your first checkpoint. If you ever decide to come back to this notebook or have to restart the notebook, you can start from here. The preprocessed data has been saved to disk."
   ]
  },
  {
   "cell_type": "code",
   "execution_count": 5,
   "metadata": {
    "collapsed": true
   },
   "outputs": [],
   "source": [
    "\"\"\"\n",
    "DON'T MODIFY ANYTHING IN THIS CELL\n",
    "\"\"\"\n",
    "import numpy as np\n",
    "import helper\n",
    "import problem_unittests as tests\n",
    "\n",
    "(source_int_text, target_int_text), (source_vocab_to_int, target_vocab_to_int), _ = helper.load_preprocess()"
   ]
  },
  {
   "cell_type": "markdown",
   "metadata": {},
   "source": [
    "### Check the Version of TensorFlow and Access to GPU\n",
    "This will check to make sure you have the correct version of TensorFlow and access to a GPU"
   ]
  },
  {
   "cell_type": "code",
   "execution_count": 6,
   "metadata": {},
   "outputs": [
    {
     "name": "stdout",
     "output_type": "stream",
     "text": [
      "TensorFlow Version: 1.2.1\n",
      "Default GPU Device: /gpu:0\n"
     ]
    }
   ],
   "source": [
    "\"\"\"\n",
    "DON'T MODIFY ANYTHING IN THIS CELL\n",
    "\"\"\"\n",
    "from distutils.version import LooseVersion\n",
    "import warnings\n",
    "import tensorflow as tf\n",
    "from tensorflow.python.layers.core import Dense\n",
    "\n",
    "# Check TensorFlow Version\n",
    "assert LooseVersion(tf.__version__) >= LooseVersion('1.1'), 'Please use TensorFlow version 1.1 or newer'\n",
    "print('TensorFlow Version: {}'.format(tf.__version__))\n",
    "\n",
    "# Check for a GPU\n",
    "if not tf.test.gpu_device_name():\n",
    "    warnings.warn('No GPU found. Please use a GPU to train your neural network.')\n",
    "else:\n",
    "    print('Default GPU Device: {}'.format(tf.test.gpu_device_name()))"
   ]
  },
  {
   "cell_type": "markdown",
   "metadata": {},
   "source": [
    "## Build the Neural Network\n",
    "You'll build the components necessary to build a Sequence-to-Sequence model by implementing the following functions below:\n",
    "- `model_inputs`\n",
    "- `process_decoder_input`\n",
    "- `encoding_layer`\n",
    "- `decoding_layer_train`\n",
    "- `decoding_layer_infer`\n",
    "- `decoding_layer`\n",
    "- `seq2seq_model`\n",
    "\n",
    "### Input\n",
    "Implement the `model_inputs()` function to create TF Placeholders for the Neural Network. It should create the following placeholders:\n",
    "\n",
    "- Input text placeholder named \"input\" using the TF Placeholder name parameter with rank 2.\n",
    "- Targets placeholder with rank 2.\n",
    "- Learning rate placeholder with rank 0.\n",
    "- Keep probability placeholder named \"keep_prob\" using the TF Placeholder name parameter with rank 0.\n",
    "- Target sequence length placeholder named \"target_sequence_length\" with rank 1\n",
    "- Max target sequence length tensor named \"max_target_len\" getting its value from applying tf.reduce_max on the target_sequence_length placeholder. Rank 0.\n",
    "- Source sequence length placeholder named \"source_sequence_length\" with rank 1\n",
    "\n",
    "Return the placeholders in the following the tuple (input, targets, learning rate, keep probability, target sequence length, max target sequence length, source sequence length)"
   ]
  },
  {
   "cell_type": "code",
   "execution_count": 7,
   "metadata": {},
   "outputs": [
    {
     "name": "stdout",
     "output_type": "stream",
     "text": [
      "ERROR:tensorflow:==================================\n",
      "Object was never used (type <class 'tensorflow.python.framework.ops.Operation'>):\n",
      "<tf.Operation 'assert_rank_2/Assert/Assert' type=Assert>\n",
      "If you want to mark it as used call its \"mark_used()\" method.\n",
      "It was originally created here:\n",
      "['File \"/home/ubuntu/anaconda3/lib/python3.6/runpy.py\", line 193, in _run_module_as_main\\n    \"__main__\", mod_spec)', 'File \"/home/ubuntu/anaconda3/lib/python3.6/runpy.py\", line 85, in _run_code\\n    exec(code, run_globals)', 'File \"/home/ubuntu/anaconda3/lib/python3.6/site-packages/ipykernel_launcher.py\", line 16, in <module>\\n    app.launch_new_instance()', 'File \"/home/ubuntu/anaconda3/lib/python3.6/site-packages/traitlets/config/application.py\", line 658, in launch_instance\\n    app.start()', 'File \"/home/ubuntu/anaconda3/lib/python3.6/site-packages/ipykernel/kernelapp.py\", line 477, in start\\n    ioloop.IOLoop.instance().start()', 'File \"/home/ubuntu/anaconda3/lib/python3.6/site-packages/zmq/eventloop/ioloop.py\", line 177, in start\\n    super(ZMQIOLoop, self).start()', 'File \"/home/ubuntu/anaconda3/lib/python3.6/site-packages/tornado/ioloop.py\", line 888, in start\\n    handler_func(fd_obj, events)', 'File \"/home/ubuntu/anaconda3/lib/python3.6/site-packages/tornado/stack_context.py\", line 277, in null_wrapper\\n    return fn(*args, **kwargs)', 'File \"/home/ubuntu/anaconda3/lib/python3.6/site-packages/zmq/eventloop/zmqstream.py\", line 440, in _handle_events\\n    self._handle_recv()', 'File \"/home/ubuntu/anaconda3/lib/python3.6/site-packages/zmq/eventloop/zmqstream.py\", line 472, in _handle_recv\\n    self._run_callback(callback, msg)', 'File \"/home/ubuntu/anaconda3/lib/python3.6/site-packages/zmq/eventloop/zmqstream.py\", line 414, in _run_callback\\n    callback(*args, **kwargs)', 'File \"/home/ubuntu/anaconda3/lib/python3.6/site-packages/tornado/stack_context.py\", line 277, in null_wrapper\\n    return fn(*args, **kwargs)', 'File \"/home/ubuntu/anaconda3/lib/python3.6/site-packages/ipykernel/kernelbase.py\", line 283, in dispatcher\\n    return self.dispatch_shell(stream, msg)', 'File \"/home/ubuntu/anaconda3/lib/python3.6/site-packages/ipykernel/kernelbase.py\", line 235, in dispatch_shell\\n    handler(stream, idents, msg)', 'File \"/home/ubuntu/anaconda3/lib/python3.6/site-packages/ipykernel/kernelbase.py\", line 399, in execute_request\\n    user_expressions, allow_stdin)', 'File \"/home/ubuntu/anaconda3/lib/python3.6/site-packages/ipykernel/ipkernel.py\", line 196, in do_execute\\n    res = shell.run_cell(code, store_history=store_history, silent=silent)', 'File \"/home/ubuntu/anaconda3/lib/python3.6/site-packages/ipykernel/zmqshell.py\", line 533, in run_cell\\n    return super(ZMQInteractiveShell, self).run_cell(*args, **kwargs)', 'File \"/home/ubuntu/anaconda3/lib/python3.6/site-packages/IPython/core/interactiveshell.py\", line 2717, in run_cell\\n    interactivity=interactivity, compiler=compiler, result=result)', 'File \"/home/ubuntu/anaconda3/lib/python3.6/site-packages/IPython/core/interactiveshell.py\", line 2827, in run_ast_nodes\\n    if self.run_code(code, result):', 'File \"/home/ubuntu/anaconda3/lib/python3.6/site-packages/IPython/core/interactiveshell.py\", line 2881, in run_code\\n    exec(code_obj, self.user_global_ns, self.user_ns)', 'File \"<ipython-input-7-804feeba2131>\", line 20, in <module>\\n    tests.test_model_inputs(model_inputs)', 'File \"/home/ubuntu/deep-learning/language-translation/problem_unittests.py\", line 106, in test_model_inputs\\n    assert tf.assert_rank(lr, 0, message=\\'Learning Rate has wrong rank\\')', 'File \"/home/ubuntu/anaconda3/lib/python3.6/site-packages/tensorflow/python/ops/check_ops.py\", line 617, in assert_rank\\n    dynamic_condition, data, summarize)', 'File \"/home/ubuntu/anaconda3/lib/python3.6/site-packages/tensorflow/python/ops/check_ops.py\", line 571, in _assert_rank_condition\\n    return control_flow_ops.Assert(condition, data, summarize=summarize)', 'File \"/home/ubuntu/anaconda3/lib/python3.6/site-packages/tensorflow/python/util/tf_should_use.py\", line 170, in wrapped\\n    return _add_should_use_warning(fn(*args, **kwargs))', 'File \"/home/ubuntu/anaconda3/lib/python3.6/site-packages/tensorflow/python/util/tf_should_use.py\", line 139, in _add_should_use_warning\\n    wrapped = TFShouldUseWarningWrapper(x)', 'File \"/home/ubuntu/anaconda3/lib/python3.6/site-packages/tensorflow/python/util/tf_should_use.py\", line 96, in __init__\\n    stack = [s.strip() for s in traceback.format_stack()]']\n",
      "==================================\n",
      "ERROR:tensorflow:==================================\n",
      "Object was never used (type <class 'tensorflow.python.framework.ops.Operation'>):\n",
      "<tf.Operation 'assert_rank_3/Assert/Assert' type=Assert>\n",
      "If you want to mark it as used call its \"mark_used()\" method.\n",
      "It was originally created here:\n",
      "['File \"/home/ubuntu/anaconda3/lib/python3.6/runpy.py\", line 193, in _run_module_as_main\\n    \"__main__\", mod_spec)', 'File \"/home/ubuntu/anaconda3/lib/python3.6/runpy.py\", line 85, in _run_code\\n    exec(code, run_globals)', 'File \"/home/ubuntu/anaconda3/lib/python3.6/site-packages/ipykernel_launcher.py\", line 16, in <module>\\n    app.launch_new_instance()', 'File \"/home/ubuntu/anaconda3/lib/python3.6/site-packages/traitlets/config/application.py\", line 658, in launch_instance\\n    app.start()', 'File \"/home/ubuntu/anaconda3/lib/python3.6/site-packages/ipykernel/kernelapp.py\", line 477, in start\\n    ioloop.IOLoop.instance().start()', 'File \"/home/ubuntu/anaconda3/lib/python3.6/site-packages/zmq/eventloop/ioloop.py\", line 177, in start\\n    super(ZMQIOLoop, self).start()', 'File \"/home/ubuntu/anaconda3/lib/python3.6/site-packages/tornado/ioloop.py\", line 888, in start\\n    handler_func(fd_obj, events)', 'File \"/home/ubuntu/anaconda3/lib/python3.6/site-packages/tornado/stack_context.py\", line 277, in null_wrapper\\n    return fn(*args, **kwargs)', 'File \"/home/ubuntu/anaconda3/lib/python3.6/site-packages/zmq/eventloop/zmqstream.py\", line 440, in _handle_events\\n    self._handle_recv()', 'File \"/home/ubuntu/anaconda3/lib/python3.6/site-packages/zmq/eventloop/zmqstream.py\", line 472, in _handle_recv\\n    self._run_callback(callback, msg)', 'File \"/home/ubuntu/anaconda3/lib/python3.6/site-packages/zmq/eventloop/zmqstream.py\", line 414, in _run_callback\\n    callback(*args, **kwargs)', 'File \"/home/ubuntu/anaconda3/lib/python3.6/site-packages/tornado/stack_context.py\", line 277, in null_wrapper\\n    return fn(*args, **kwargs)', 'File \"/home/ubuntu/anaconda3/lib/python3.6/site-packages/ipykernel/kernelbase.py\", line 283, in dispatcher\\n    return self.dispatch_shell(stream, msg)', 'File \"/home/ubuntu/anaconda3/lib/python3.6/site-packages/ipykernel/kernelbase.py\", line 235, in dispatch_shell\\n    handler(stream, idents, msg)', 'File \"/home/ubuntu/anaconda3/lib/python3.6/site-packages/ipykernel/kernelbase.py\", line 399, in execute_request\\n    user_expressions, allow_stdin)', 'File \"/home/ubuntu/anaconda3/lib/python3.6/site-packages/ipykernel/ipkernel.py\", line 196, in do_execute\\n    res = shell.run_cell(code, store_history=store_history, silent=silent)', 'File \"/home/ubuntu/anaconda3/lib/python3.6/site-packages/ipykernel/zmqshell.py\", line 533, in run_cell\\n    return super(ZMQInteractiveShell, self).run_cell(*args, **kwargs)', 'File \"/home/ubuntu/anaconda3/lib/python3.6/site-packages/IPython/core/interactiveshell.py\", line 2717, in run_cell\\n    interactivity=interactivity, compiler=compiler, result=result)', 'File \"/home/ubuntu/anaconda3/lib/python3.6/site-packages/IPython/core/interactiveshell.py\", line 2827, in run_ast_nodes\\n    if self.run_code(code, result):', 'File \"/home/ubuntu/anaconda3/lib/python3.6/site-packages/IPython/core/interactiveshell.py\", line 2881, in run_code\\n    exec(code_obj, self.user_global_ns, self.user_ns)', 'File \"<ipython-input-7-804feeba2131>\", line 20, in <module>\\n    tests.test_model_inputs(model_inputs)', 'File \"/home/ubuntu/deep-learning/language-translation/problem_unittests.py\", line 107, in test_model_inputs\\n    assert tf.assert_rank(keep_prob, 0, message=\\'Keep Probability has wrong rank\\')', 'File \"/home/ubuntu/anaconda3/lib/python3.6/site-packages/tensorflow/python/ops/check_ops.py\", line 617, in assert_rank\\n    dynamic_condition, data, summarize)', 'File \"/home/ubuntu/anaconda3/lib/python3.6/site-packages/tensorflow/python/ops/check_ops.py\", line 571, in _assert_rank_condition\\n    return control_flow_ops.Assert(condition, data, summarize=summarize)', 'File \"/home/ubuntu/anaconda3/lib/python3.6/site-packages/tensorflow/python/util/tf_should_use.py\", line 170, in wrapped\\n    return _add_should_use_warning(fn(*args, **kwargs))', 'File \"/home/ubuntu/anaconda3/lib/python3.6/site-packages/tensorflow/python/util/tf_should_use.py\", line 139, in _add_should_use_warning\\n    wrapped = TFShouldUseWarningWrapper(x)', 'File \"/home/ubuntu/anaconda3/lib/python3.6/site-packages/tensorflow/python/util/tf_should_use.py\", line 96, in __init__\\n    stack = [s.strip() for s in traceback.format_stack()]']\n",
      "==================================\n"
     ]
    },
    {
     "name": "stdout",
     "output_type": "stream",
     "text": [
      "Tests Passed\n"
     ]
    }
   ],
   "source": [
    "def model_inputs():\n",
    "    \"\"\"\n",
    "    Create TF Placeholders for input, targets, learning rate, and lengths of source and target sequences.\n",
    "    :return: Tuple (input, targets, learning rate, keep probability, target sequence length,\n",
    "    max target sequence length, source sequence length)\n",
    "    \"\"\"\n",
    "    target_sequence_length = tf.placeholder(tf.int32, [None], 'target_sequence_length')\n",
    "    return (tf.placeholder(tf.int32, [None, None], 'input'),\n",
    "            tf.placeholder(tf.int32, [None, None]),\n",
    "            tf.placeholder(tf.float32),\n",
    "            tf.placeholder(tf.float32, name='keep_prob'),\n",
    "            target_sequence_length,\n",
    "            tf.reduce_max(target_sequence_length, name='max_target_len'),\n",
    "            tf.placeholder(tf.int32, [None], 'source_sequence_length'))\n",
    "\n",
    "\n",
    "\"\"\"\n",
    "DON'T MODIFY ANYTHING IN THIS CELL THAT IS BELOW THIS LINE\n",
    "\"\"\"\n",
    "tests.test_model_inputs(model_inputs)"
   ]
  },
  {
   "cell_type": "markdown",
   "metadata": {},
   "source": [
    "### Process Decoder Input\n",
    "Implement `process_decoder_input` by removing the last word id from each batch in `target_data` and concat the GO ID to the begining of each batch."
   ]
  },
  {
   "cell_type": "code",
   "execution_count": 8,
   "metadata": {},
   "outputs": [
    {
     "name": "stdout",
     "output_type": "stream",
     "text": [
      "Tests Passed\n"
     ]
    }
   ],
   "source": [
    "def process_decoder_input(target_data, target_vocab_to_int, batch_size):\n",
    "    \"\"\"\n",
    "    Preprocess target data for encoding\n",
    "    :param target_data: Target Placehoder\n",
    "    :param target_vocab_to_int: Dictionary to go from the target words to an id\n",
    "    :param batch_size: Batch Size\n",
    "    :return: Preprocessed target data\n",
    "    \"\"\"\n",
    "    return tf.concat([tf.fill([batch_size, 1], target_vocab_to_int['<GO>']), \n",
    "                      tf.strided_slice(target_data, [0, 0], [batch_size, -1], [1, 1])], 1)\n",
    "\n",
    "\n",
    "\"\"\"\n",
    "DON'T MODIFY ANYTHING IN THIS CELL THAT IS BELOW THIS LINE\n",
    "\"\"\"\n",
    "tests.test_process_encoding_input(process_decoder_input)"
   ]
  },
  {
   "cell_type": "markdown",
   "metadata": {},
   "source": [
    "### Encoding\n",
    "Implement `encoding_layer()` to create a Encoder RNN layer:\n",
    " * Embed the encoder input using [`tf.contrib.layers.embed_sequence`](https://www.tensorflow.org/api_docs/python/tf/contrib/layers/embed_sequence)\n",
    " * Construct a [stacked](https://github.com/tensorflow/tensorflow/blob/6947f65a374ebf29e74bb71e36fd82760056d82c/tensorflow/docs_src/tutorials/recurrent.md#stacking-multiple-lstms) [`tf.contrib.rnn.LSTMCell`](https://www.tensorflow.org/api_docs/python/tf/contrib/rnn/LSTMCell) wrapped in a [`tf.contrib.rnn.DropoutWrapper`](https://www.tensorflow.org/api_docs/python/tf/contrib/rnn/DropoutWrapper)\n",
    " * Pass cell and embedded input to [`tf.nn.dynamic_rnn()`](https://www.tensorflow.org/api_docs/python/tf/nn/dynamic_rnn)"
   ]
  },
  {
   "cell_type": "code",
   "execution_count": 9,
   "metadata": {
    "scrolled": false
   },
   "outputs": [
    {
     "name": "stdout",
     "output_type": "stream",
     "text": [
      "Tests Passed\n"
     ]
    }
   ],
   "source": [
    "from imp import reload\n",
    "reload(tests)\n",
    "\n",
    "def encoding_layer(rnn_inputs, rnn_size, num_layers, keep_prob, \n",
    "                   source_sequence_length, source_vocab_size, \n",
    "                   encoding_embedding_size):\n",
    "    \"\"\"\n",
    "    Create encoding layer\n",
    "    :param rnn_inputs: Inputs for the RNN\n",
    "    :param rnn_size: RNN Size\n",
    "    :param num_layers: Number of layers\n",
    "    :param keep_prob: Dropout keep probability\n",
    "    :param source_sequence_length: a list of the lengths of each sequence in the batch\n",
    "    :param source_vocab_size: vocabulary size of source data\n",
    "    :param encoding_embedding_size: embedding size of source data\n",
    "    :return: tuple (RNN output, RNN state)\n",
    "    \"\"\"\n",
    "    embedded_input = tf.contrib.layers.embed_sequence(rnn_inputs, source_vocab_size, encoding_embedding_size)\n",
    "    cells = []\n",
    "    for _ in range(num_layers):\n",
    "        cell = tf.contrib.rnn.BasicLSTMCell(rnn_size)\n",
    "        cell = tf.contrib.rnn.DropoutWrapper(cell, output_keep_prob=keep_prob)\n",
    "        cells.append(cell)\n",
    "    return tf.nn.dynamic_rnn(tf.contrib.rnn.MultiRNNCell(cells), embedded_input, \n",
    "                             source_sequence_length, dtype=tf.float32)\n",
    "\n",
    "\n",
    "\"\"\"\n",
    "DON'T MODIFY ANYTHING IN THIS CELL THAT IS BELOW THIS LINE\n",
    "\"\"\"\n",
    "tests.test_encoding_layer(encoding_layer)"
   ]
  },
  {
   "cell_type": "markdown",
   "metadata": {},
   "source": [
    "### Decoding - Training\n",
    "Create a training decoding layer:\n",
    "* Create a [`tf.contrib.seq2seq.TrainingHelper`](https://www.tensorflow.org/api_docs/python/tf/contrib/seq2seq/TrainingHelper) \n",
    "* Create a [`tf.contrib.seq2seq.BasicDecoder`](https://www.tensorflow.org/api_docs/python/tf/contrib/seq2seq/BasicDecoder)\n",
    "* Obtain the decoder outputs from [`tf.contrib.seq2seq.dynamic_decode`](https://www.tensorflow.org/api_docs/python/tf/contrib/seq2seq/dynamic_decode)"
   ]
  },
  {
   "cell_type": "code",
   "execution_count": 10,
   "metadata": {},
   "outputs": [
    {
     "name": "stdout",
     "output_type": "stream",
     "text": [
      "Tests Passed\n"
     ]
    }
   ],
   "source": [
    "\n",
    "def decoding_layer_train(encoder_state, dec_cell, dec_embed_input, \n",
    "                         target_sequence_length, max_summary_length, \n",
    "                         output_layer, keep_prob):\n",
    "    \"\"\"\n",
    "    Create a decoding layer for training\n",
    "    :param encoder_state: Encoder State\n",
    "    :param dec_cell: Decoder RNN Cell\n",
    "    :param dec_embed_input: Decoder embedded input\n",
    "    :param target_sequence_length: The lengths of each sequence in the target batch\n",
    "    :param max_summary_length: The length of the longest sequence in the batch\n",
    "    :param output_layer: Function to apply the output layer\n",
    "    :param keep_prob: Dropout keep probability\n",
    "    :return: BasicDecoderOutput containing training logits and sample_id\n",
    "    \"\"\"\n",
    "    training_helper = tf.contrib.seq2seq.TrainingHelper(dec_embed_input, target_sequence_length)\n",
    "    basic_decoder = tf.contrib.seq2seq.BasicDecoder(tf.contrib.rnn.DropoutWrapper(dec_cell, output_keep_prob=keep_prob), training_helper, encoder_state, output_layer)\n",
    "    return tf.contrib.seq2seq.dynamic_decode(basic_decoder)[0]\n",
    "\n",
    "\n",
    "\"\"\"\n",
    "DON'T MODIFY ANYTHING IN THIS CELL THAT IS BELOW THIS LINE\n",
    "\"\"\"\n",
    "tests.test_decoding_layer_train(decoding_layer_train)"
   ]
  },
  {
   "cell_type": "markdown",
   "metadata": {},
   "source": [
    "### Decoding - Inference\n",
    "Create inference decoder:\n",
    "* Create a [`tf.contrib.seq2seq.GreedyEmbeddingHelper`](https://www.tensorflow.org/api_docs/python/tf/contrib/seq2seq/GreedyEmbeddingHelper)\n",
    "* Create a [`tf.contrib.seq2seq.BasicDecoder`](https://www.tensorflow.org/api_docs/python/tf/contrib/seq2seq/BasicDecoder)\n",
    "* Obtain the decoder outputs from [`tf.contrib.seq2seq.dynamic_decode`](https://www.tensorflow.org/api_docs/python/tf/contrib/seq2seq/dynamic_decode)"
   ]
  },
  {
   "cell_type": "code",
   "execution_count": 11,
   "metadata": {
    "scrolled": true
   },
   "outputs": [
    {
     "name": "stdout",
     "output_type": "stream",
     "text": [
      "Tests Passed\n"
     ]
    }
   ],
   "source": [
    "def decoding_layer_infer(encoder_state, dec_cell, dec_embeddings, start_of_sequence_id,\n",
    "                         end_of_sequence_id, max_target_sequence_length,\n",
    "                         vocab_size, output_layer, batch_size, keep_prob):\n",
    "    \"\"\"\n",
    "    Create a decoding layer for inference\n",
    "    :param encoder_state: Encoder state\n",
    "    :param dec_cell: Decoder RNN Cell\n",
    "    :param dec_embeddings: Decoder embeddings\n",
    "    :param start_of_sequence_id: GO ID\n",
    "    :param end_of_sequence_id: EOS Id\n",
    "    :param max_target_sequence_length: Maximum length of target sequences\n",
    "    :param vocab_size: Size of decoder/target vocabulary\n",
    "    :param decoding_scope: TenorFlow Variable Scope for decoding\n",
    "    :param output_layer: Function to apply the output layer\n",
    "    :param batch_size: Batch size\n",
    "    :param keep_prob: Dropout keep probability\n",
    "    :return: BasicDecoderOutput containing inference logits and sample_id\n",
    "    \"\"\"\n",
    "    greedy_embedding_helper = tf.contrib.seq2seq.GreedyEmbeddingHelper(dec_embeddings, \n",
    "                                                                       tf.tile(tf.constant([start_of_sequence_id], dtype=tf.int32), [batch_size]), \n",
    "                                                                       end_of_sequence_id)\n",
    "    dropout = tf.contrib.rnn.DropoutWrapper(dec_cell, output_keep_prob=keep_prob)\n",
    "    infer_decoder = tf.contrib.seq2seq.BasicDecoder(dropout, greedy_embedding_helper, encoder_state, output_layer=output_layer)\n",
    "    return tf.contrib.seq2seq.dynamic_decode(infer_decoder, impute_finished=True, maximum_iterations=max_target_sequence_length)[0]\n",
    "\n",
    "\n",
    "\"\"\"\n",
    "DON'T MODIFY ANYTHING IN THIS CELL THAT IS BELOW THIS LINE\n",
    "\"\"\"\n",
    "tests.test_decoding_layer_infer(decoding_layer_infer)"
   ]
  },
  {
   "cell_type": "markdown",
   "metadata": {},
   "source": [
    "### Build the Decoding Layer\n",
    "Implement `decoding_layer()` to create a Decoder RNN layer.\n",
    "\n",
    "* Embed the target sequences\n",
    "* Construct the decoder LSTM cell (just like you constructed the encoder cell above)\n",
    "* Create an output layer to map the outputs of the decoder to the elements of our vocabulary\n",
    "* Use the your `decoding_layer_train(encoder_state, dec_cell, dec_embed_input, target_sequence_length, max_target_sequence_length, output_layer, keep_prob)` function to get the training logits.\n",
    "* Use your `decoding_layer_infer(encoder_state, dec_cell, dec_embeddings, start_of_sequence_id, end_of_sequence_id, max_target_sequence_length, vocab_size, output_layer, batch_size, keep_prob)` function to get the inference logits.\n",
    "\n",
    "Note: You'll need to use [tf.variable_scope](https://www.tensorflow.org/api_docs/python/tf/variable_scope) to share variables between training and inference."
   ]
  },
  {
   "cell_type": "code",
   "execution_count": 12,
   "metadata": {
    "scrolled": false
   },
   "outputs": [
    {
     "name": "stdout",
     "output_type": "stream",
     "text": [
      "Tests Passed\n"
     ]
    }
   ],
   "source": [
    "def decoding_layer(dec_input, encoder_state,\n",
    "                   target_sequence_length, max_target_sequence_length,\n",
    "                   rnn_size,\n",
    "                   num_layers, target_vocab_to_int, target_vocab_size,\n",
    "                   batch_size, keep_prob, decoding_embedding_size):\n",
    "    \"\"\"\n",
    "    Create decoding layer\n",
    "    :param dec_input: Decoder input\n",
    "    :param encoder_state: Encoder state\n",
    "    :param target_sequence_length: The lengths of each sequence in the target batch\n",
    "    :param max_target_sequence_length: Maximum length of target sequences\n",
    "    :param rnn_size: RNN Size\n",
    "    :param num_layers: Number of layers\n",
    "    :param target_vocab_to_int: Dictionary to go from the target words to an id\n",
    "    :param target_vocab_size: Size of target vocabulary\n",
    "    :param batch_size: The size of the batch\n",
    "    :param keep_prob: Dropout keep probability\n",
    "    :param decoding_embedding_size: Decoding embedding size\n",
    "    :return: Tuple of (Training BasicDecoderOutput, Inference BasicDecoderOutput)\n",
    "    \"\"\"\n",
    "    dec_embeddings = tf.Variable(tf.random_uniform([target_vocab_size, decoding_embedding_size]))\n",
    "    dec_embedded_input = tf.nn.embedding_lookup(dec_embeddings, dec_input)\n",
    "    cells = []\n",
    "    for _ in range(num_layers):\n",
    "        cell = tf.contrib.rnn.BasicLSTMCell(rnn_size)\n",
    "        cell = tf.contrib.rnn.DropoutWrapper(cell, output_keep_prob=keep_prob)\n",
    "        cells.append(cell)\n",
    "    dec_cell = tf.contrib.rnn.MultiRNNCell(cells)\n",
    "    start_of_sequence_id = target_vocab_to_int['<GO>']\n",
    "    end_of_sequence_id = target_vocab_to_int['<EOS>']\n",
    "    with tf.variable_scope('decoding') as decoding_scope:\n",
    "        output_layer = Dense(target_vocab_size)\n",
    "        train_logits = decoding_layer_train(encoder_state, dec_cell, dec_embedded_input, target_sequence_length, \n",
    "                                            max_target_sequence_length, output_layer, keep_prob)\n",
    "        decoding_scope.reuse_variables()\n",
    "        infer_logits = decoding_layer_infer(encoder_state, dec_cell, dec_embeddings, start_of_sequence_id, \n",
    "                                            end_of_sequence_id, max_target_sequence_length, target_vocab_size, output_layer, \n",
    "                                            batch_size, keep_prob)\n",
    "    return train_logits, infer_logits\n",
    "\n",
    "\n",
    "\"\"\"\n",
    "DON'T MODIFY ANYTHING IN THIS CELL THAT IS BELOW THIS LINE\n",
    "\"\"\"\n",
    "tests.test_decoding_layer(decoding_layer)"
   ]
  },
  {
   "cell_type": "markdown",
   "metadata": {},
   "source": [
    "### Build the Neural Network\n",
    "Apply the functions you implemented above to:\n",
    "\n",
    "- Encode the input using your `encoding_layer(rnn_inputs, rnn_size, num_layers, keep_prob,  source_sequence_length, source_vocab_size, encoding_embedding_size)`.\n",
    "- Process target data using your `process_decoder_input(target_data, target_vocab_to_int, batch_size)` function.\n",
    "- Decode the encoded input using your `decoding_layer(dec_input, enc_state, target_sequence_length, max_target_sentence_length, rnn_size, num_layers, target_vocab_to_int, target_vocab_size, batch_size, keep_prob, dec_embedding_size)` function."
   ]
  },
  {
   "cell_type": "code",
   "execution_count": 13,
   "metadata": {},
   "outputs": [
    {
     "name": "stdout",
     "output_type": "stream",
     "text": [
      "Tests Passed\n"
     ]
    }
   ],
   "source": [
    "def seq2seq_model(input_data, target_data, keep_prob, batch_size,\n",
    "                  source_sequence_length, target_sequence_length,\n",
    "                  max_target_sentence_length,\n",
    "                  source_vocab_size, target_vocab_size,\n",
    "                  enc_embedding_size, dec_embedding_size,\n",
    "                  rnn_size, num_layers, target_vocab_to_int):\n",
    "    \"\"\"\n",
    "    Build the Sequence-to-Sequence part of the neural network\n",
    "    :param input_data: Input placeholder\n",
    "    :param target_data: Target placeholder\n",
    "    :param keep_prob: Dropout keep probability placeholder\n",
    "    :param batch_size: Batch Size\n",
    "    :param source_sequence_length: Sequence Lengths of source sequences in the batch\n",
    "    :param target_sequence_length: Sequence Lengths of target sequences in the batch\n",
    "    :param source_vocab_size: Source vocabulary size\n",
    "    :param target_vocab_size: Target vocabulary size\n",
    "    :param enc_embedding_size: Decoder embedding size\n",
    "    :param dec_embedding_size: Encoder embedding size\n",
    "    :param rnn_size: RNN Size\n",
    "    :param num_layers: Number of layers\n",
    "    :param target_vocab_to_int: Dictionary to go from the target words to an id\n",
    "    :return: Tuple of (Training BasicDecoderOutput, Inference BasicDecoderOutput)\n",
    "    \"\"\"\n",
    "    rnn_output, rnn_state = encoding_layer(input_data, rnn_size, num_layers, keep_prob, source_sequence_length, \n",
    "                                           source_vocab_size, enc_embedding_size)\n",
    "    processed_target_data = process_decoder_input(target_data, target_vocab_to_int, batch_size)\n",
    "    return decoding_layer(processed_target_data, rnn_state, target_sequence_length, max_target_sentence_length, \n",
    "                          rnn_size, num_layers, target_vocab_to_int, target_vocab_size, batch_size, \n",
    "                          keep_prob, dec_embedding_size)\n",
    "\n",
    "\n",
    "\"\"\"\n",
    "DON'T MODIFY ANYTHING IN THIS CELL THAT IS BELOW THIS LINE\n",
    "\"\"\"\n",
    "tests.test_seq2seq_model(seq2seq_model)"
   ]
  },
  {
   "cell_type": "markdown",
   "metadata": {},
   "source": [
    "## Neural Network Training\n",
    "### Hyperparameters\n",
    "Tune the following parameters:\n",
    "\n",
    "- Set `epochs` to the number of epochs.\n",
    "- Set `batch_size` to the batch size.\n",
    "- Set `rnn_size` to the size of the RNNs.\n",
    "- Set `num_layers` to the number of layers.\n",
    "- Set `encoding_embedding_size` to the size of the embedding for the encoder.\n",
    "- Set `decoding_embedding_size` to the size of the embedding for the decoder.\n",
    "- Set `learning_rate` to the learning rate.\n",
    "- Set `keep_probability` to the Dropout keep probability\n",
    "- Set `display_step` to state how many steps between each debug output statement"
   ]
  },
  {
   "cell_type": "code",
   "execution_count": 14,
   "metadata": {
    "collapsed": true
   },
   "outputs": [],
   "source": [
    "# Number of Epochs\n",
    "epochs = 50\n",
    "# Batch Size\n",
    "batch_size = 256\n",
    "# RNN Size\n",
    "rnn_size = 128\n",
    "# Number of Layers\n",
    "num_layers = 2\n",
    "# Embedding Size\n",
    "encoding_embedding_size = 9\n",
    "decoding_embedding_size = 9\n",
    "# Learning Rate\n",
    "learning_rate = 0.001\n",
    "# Dropout Keep Probability\n",
    "keep_probability = 0.85\n",
    "display_step = 100"
   ]
  },
  {
   "cell_type": "markdown",
   "metadata": {},
   "source": [
    "### Build the Graph\n",
    "Build the graph using the neural network you implemented."
   ]
  },
  {
   "cell_type": "code",
   "execution_count": 15,
   "metadata": {
    "collapsed": true
   },
   "outputs": [],
   "source": [
    "\"\"\"\n",
    "DON'T MODIFY ANYTHING IN THIS CELL\n",
    "\"\"\"\n",
    "save_path = 'checkpoints/dev'\n",
    "(source_int_text, target_int_text), (source_vocab_to_int, target_vocab_to_int), _ = helper.load_preprocess()\n",
    "max_target_sentence_length = max([len(sentence) for sentence in source_int_text])\n",
    "\n",
    "train_graph = tf.Graph()\n",
    "with train_graph.as_default():\n",
    "    input_data, targets, lr, keep_prob, target_sequence_length, max_target_sequence_length, source_sequence_length = model_inputs()\n",
    "\n",
    "    #sequence_length = tf.placeholder_with_default(max_target_sentence_length, None, name='sequence_length')\n",
    "    input_shape = tf.shape(input_data)\n",
    "\n",
    "    train_logits, inference_logits = seq2seq_model(tf.reverse(input_data, [-1]),\n",
    "                                                   targets,\n",
    "                                                   keep_prob,\n",
    "                                                   batch_size,\n",
    "                                                   source_sequence_length,\n",
    "                                                   target_sequence_length,\n",
    "                                                   max_target_sequence_length,\n",
    "                                                   len(source_vocab_to_int),\n",
    "                                                   len(target_vocab_to_int),\n",
    "                                                   encoding_embedding_size,\n",
    "                                                   decoding_embedding_size,\n",
    "                                                   rnn_size,\n",
    "                                                   num_layers,\n",
    "                                                   target_vocab_to_int)\n",
    "\n",
    "\n",
    "    training_logits = tf.identity(train_logits.rnn_output, name='logits')\n",
    "    inference_logits = tf.identity(inference_logits.sample_id, name='predictions')\n",
    "\n",
    "    masks = tf.sequence_mask(target_sequence_length, max_target_sequence_length, dtype=tf.float32, name='masks')\n",
    "\n",
    "    with tf.name_scope(\"optimization\"):\n",
    "        # Loss function\n",
    "        cost = tf.contrib.seq2seq.sequence_loss(\n",
    "            training_logits,\n",
    "            targets,\n",
    "            masks)\n",
    "\n",
    "        # Optimizer\n",
    "        optimizer = tf.train.AdamOptimizer(lr)\n",
    "\n",
    "        # Gradient Clipping\n",
    "        gradients = optimizer.compute_gradients(cost)\n",
    "        capped_gradients = [(tf.clip_by_value(grad, -1., 1.), var) for grad, var in gradients if grad is not None]\n",
    "        train_op = optimizer.apply_gradients(capped_gradients)\n"
   ]
  },
  {
   "cell_type": "markdown",
   "metadata": {},
   "source": [
    "Batch and pad the source and target sequences"
   ]
  },
  {
   "cell_type": "code",
   "execution_count": 16,
   "metadata": {
    "collapsed": true
   },
   "outputs": [],
   "source": [
    "\"\"\"\n",
    "DON'T MODIFY ANYTHING IN THIS CELL\n",
    "\"\"\"\n",
    "def pad_sentence_batch(sentence_batch, pad_int):\n",
    "    \"\"\"Pad sentences with <PAD> so that each sentence of a batch has the same length\"\"\"\n",
    "    max_sentence = max([len(sentence) for sentence in sentence_batch])\n",
    "    return [sentence + [pad_int] * (max_sentence - len(sentence)) for sentence in sentence_batch]\n",
    "\n",
    "\n",
    "def get_batches(sources, targets, batch_size, source_pad_int, target_pad_int):\n",
    "    \"\"\"Batch targets, sources, and the lengths of their sentences together\"\"\"\n",
    "    for batch_i in range(0, len(sources)//batch_size):\n",
    "        start_i = batch_i * batch_size\n",
    "\n",
    "        # Slice the right amount for the batch\n",
    "        sources_batch = sources[start_i:start_i + batch_size]\n",
    "        targets_batch = targets[start_i:start_i + batch_size]\n",
    "\n",
    "        # Pad\n",
    "        pad_sources_batch = np.array(pad_sentence_batch(sources_batch, source_pad_int))\n",
    "        pad_targets_batch = np.array(pad_sentence_batch(targets_batch, target_pad_int))\n",
    "\n",
    "        # Need the lengths for the _lengths parameters\n",
    "        pad_targets_lengths = []\n",
    "        for target in pad_targets_batch:\n",
    "            pad_targets_lengths.append(len(target))\n",
    "\n",
    "        pad_source_lengths = []\n",
    "        for source in pad_sources_batch:\n",
    "            pad_source_lengths.append(len(source))\n",
    "\n",
    "        yield pad_sources_batch, pad_targets_batch, pad_source_lengths, pad_targets_lengths\n"
   ]
  },
  {
   "cell_type": "markdown",
   "metadata": {},
   "source": [
    "### Train\n",
    "Train the neural network on the preprocessed data. If you have a hard time getting a good loss, check the forms to see if anyone is having the same problem."
   ]
  },
  {
   "cell_type": "code",
   "execution_count": 17,
   "metadata": {
    "scrolled": true
   },
   "outputs": [
    {
     "name": "stdout",
     "output_type": "stream",
     "text": [
      "Epoch   0 Batch  100/538 - Train Accuracy: 0.3561, Validation Accuracy: 0.4109, Loss: 2.9559\n",
      "Epoch   0 Batch  200/538 - Train Accuracy: 0.4256, Validation Accuracy: 0.4851, Loss: 2.3810\n",
      "Epoch   0 Batch  300/538 - Train Accuracy: 0.4697, Validation Accuracy: 0.4954, Loss: 1.9351\n",
      "Epoch   0 Batch  400/538 - Train Accuracy: 0.4846, Validation Accuracy: 0.5188, Loss: 1.8029\n",
      "Epoch   0 Batch  500/538 - Train Accuracy: 0.4931, Validation Accuracy: 0.5043, Loss: 1.4089\n",
      "Epoch   1 Batch  100/538 - Train Accuracy: 0.4449, Validation Accuracy: 0.4902, Loss: 1.2733\n",
      "Epoch   1 Batch  200/538 - Train Accuracy: 0.5068, Validation Accuracy: 0.5376, Loss: 1.2072\n",
      "Epoch   1 Batch  300/538 - Train Accuracy: 0.5461, Validation Accuracy: 0.5394, Loss: 1.0532\n",
      "Epoch   1 Batch  400/538 - Train Accuracy: 0.5294, Validation Accuracy: 0.5419, Loss: 1.0170\n",
      "Epoch   1 Batch  500/538 - Train Accuracy: 0.5446, Validation Accuracy: 0.5501, Loss: 0.8772\n",
      "Epoch   2 Batch  100/538 - Train Accuracy: 0.5303, Validation Accuracy: 0.5431, Loss: 0.8766\n",
      "Epoch   2 Batch  200/538 - Train Accuracy: 0.5275, Validation Accuracy: 0.5504, Loss: 0.8394\n",
      "Epoch   2 Batch  300/538 - Train Accuracy: 0.5644, Validation Accuracy: 0.5574, Loss: 0.7853\n",
      "Epoch   2 Batch  400/538 - Train Accuracy: 0.5703, Validation Accuracy: 0.5882, Loss: 0.7744\n",
      "Epoch   2 Batch  500/538 - Train Accuracy: 0.5863, Validation Accuracy: 0.5829, Loss: 0.6836\n",
      "Epoch   3 Batch  100/538 - Train Accuracy: 0.5842, Validation Accuracy: 0.5993, Loss: 0.6936\n",
      "Epoch   3 Batch  200/538 - Train Accuracy: 0.6086, Validation Accuracy: 0.6129, Loss: 0.6603\n",
      "Epoch   3 Batch  300/538 - Train Accuracy: 0.6211, Validation Accuracy: 0.6179, Loss: 0.6333\n",
      "Epoch   3 Batch  400/538 - Train Accuracy: 0.5943, Validation Accuracy: 0.6190, Loss: 0.6330\n",
      "Epoch   3 Batch  500/538 - Train Accuracy: 0.6383, Validation Accuracy: 0.6275, Loss: 0.5717\n",
      "Epoch   4 Batch  100/538 - Train Accuracy: 0.6121, Validation Accuracy: 0.6344, Loss: 0.5897\n",
      "Epoch   4 Batch  200/538 - Train Accuracy: 0.6354, Validation Accuracy: 0.6371, Loss: 0.5561\n",
      "Epoch   4 Batch  300/538 - Train Accuracy: 0.6512, Validation Accuracy: 0.6472, Loss: 0.5437\n",
      "Epoch   4 Batch  400/538 - Train Accuracy: 0.6332, Validation Accuracy: 0.6531, Loss: 0.5444\n",
      "Epoch   4 Batch  500/538 - Train Accuracy: 0.6593, Validation Accuracy: 0.6529, Loss: 0.4849\n",
      "Epoch   5 Batch  100/538 - Train Accuracy: 0.6492, Validation Accuracy: 0.6619, Loss: 0.5114\n",
      "Epoch   5 Batch  200/538 - Train Accuracy: 0.6568, Validation Accuracy: 0.6657, Loss: 0.4897\n",
      "Epoch   5 Batch  300/538 - Train Accuracy: 0.6728, Validation Accuracy: 0.6715, Loss: 0.4830\n",
      "Epoch   5 Batch  400/538 - Train Accuracy: 0.6641, Validation Accuracy: 0.6687, Loss: 0.4679\n",
      "Epoch   5 Batch  500/538 - Train Accuracy: 0.6792, Validation Accuracy: 0.6751, Loss: 0.4273\n",
      "Epoch   6 Batch  100/538 - Train Accuracy: 0.6689, Validation Accuracy: 0.6820, Loss: 0.4498\n",
      "Epoch   6 Batch  200/538 - Train Accuracy: 0.6980, Validation Accuracy: 0.6893, Loss: 0.4319\n",
      "Epoch   6 Batch  300/538 - Train Accuracy: 0.6929, Validation Accuracy: 0.6966, Loss: 0.4272\n",
      "Epoch   6 Batch  400/538 - Train Accuracy: 0.6944, Validation Accuracy: 0.6957, Loss: 0.4176\n",
      "Epoch   6 Batch  500/538 - Train Accuracy: 0.7211, Validation Accuracy: 0.7044, Loss: 0.3732\n",
      "Epoch   7 Batch  100/538 - Train Accuracy: 0.6916, Validation Accuracy: 0.7111, Loss: 0.3919\n",
      "Epoch   7 Batch  200/538 - Train Accuracy: 0.7047, Validation Accuracy: 0.7085, Loss: 0.3795\n",
      "Epoch   7 Batch  300/538 - Train Accuracy: 0.7068, Validation Accuracy: 0.7196, Loss: 0.3753\n",
      "Epoch   7 Batch  400/538 - Train Accuracy: 0.7154, Validation Accuracy: 0.7203, Loss: 0.3629\n",
      "Epoch   7 Batch  500/538 - Train Accuracy: 0.7457, Validation Accuracy: 0.7385, Loss: 0.3257\n",
      "Epoch   8 Batch  100/538 - Train Accuracy: 0.7230, Validation Accuracy: 0.7418, Loss: 0.3465\n",
      "Epoch   8 Batch  200/538 - Train Accuracy: 0.7430, Validation Accuracy: 0.7408, Loss: 0.3281\n",
      "Epoch   8 Batch  300/538 - Train Accuracy: 0.7398, Validation Accuracy: 0.7408, Loss: 0.3336\n",
      "Epoch   8 Batch  400/538 - Train Accuracy: 0.7392, Validation Accuracy: 0.7461, Loss: 0.3361\n",
      "Epoch   8 Batch  500/538 - Train Accuracy: 0.7649, Validation Accuracy: 0.7617, Loss: 0.2898\n",
      "Epoch   9 Batch  100/538 - Train Accuracy: 0.7383, Validation Accuracy: 0.7539, Loss: 0.3113\n",
      "Epoch   9 Batch  200/538 - Train Accuracy: 0.7562, Validation Accuracy: 0.7488, Loss: 0.2982\n",
      "Epoch   9 Batch  300/538 - Train Accuracy: 0.7442, Validation Accuracy: 0.7553, Loss: 0.3050\n",
      "Epoch   9 Batch  400/538 - Train Accuracy: 0.7576, Validation Accuracy: 0.7699, Loss: 0.2984\n",
      "Epoch   9 Batch  500/538 - Train Accuracy: 0.7761, Validation Accuracy: 0.7630, Loss: 0.2632\n",
      "Epoch  10 Batch  100/538 - Train Accuracy: 0.7443, Validation Accuracy: 0.7804, Loss: 0.2909\n",
      "Epoch  10 Batch  200/538 - Train Accuracy: 0.7574, Validation Accuracy: 0.7814, Loss: 0.2836\n",
      "Epoch  10 Batch  300/538 - Train Accuracy: 0.7530, Validation Accuracy: 0.7644, Loss: 0.2789\n",
      "Epoch  10 Batch  400/538 - Train Accuracy: 0.7636, Validation Accuracy: 0.7844, Loss: 0.2776\n",
      "Epoch  10 Batch  500/538 - Train Accuracy: 0.7857, Validation Accuracy: 0.7884, Loss: 0.2464\n",
      "Epoch  11 Batch  100/538 - Train Accuracy: 0.7551, Validation Accuracy: 0.7848, Loss: 0.2712\n",
      "Epoch  11 Batch  200/538 - Train Accuracy: 0.7709, Validation Accuracy: 0.7802, Loss: 0.2541\n",
      "Epoch  11 Batch  300/538 - Train Accuracy: 0.7649, Validation Accuracy: 0.7752, Loss: 0.2622\n",
      "Epoch  11 Batch  400/538 - Train Accuracy: 0.7615, Validation Accuracy: 0.7871, Loss: 0.2585\n",
      "Epoch  11 Batch  500/538 - Train Accuracy: 0.8031, Validation Accuracy: 0.7928, Loss: 0.2287\n",
      "Epoch  12 Batch  100/538 - Train Accuracy: 0.7809, Validation Accuracy: 0.7958, Loss: 0.2388\n",
      "Epoch  12 Batch  200/538 - Train Accuracy: 0.7949, Validation Accuracy: 0.7985, Loss: 0.2265\n",
      "Epoch  12 Batch  300/538 - Train Accuracy: 0.7626, Validation Accuracy: 0.7976, Loss: 0.2341\n",
      "Epoch  12 Batch  400/538 - Train Accuracy: 0.7969, Validation Accuracy: 0.8105, Loss: 0.2255\n",
      "Epoch  12 Batch  500/538 - Train Accuracy: 0.8233, Validation Accuracy: 0.8116, Loss: 0.1909\n",
      "Epoch  13 Batch  100/538 - Train Accuracy: 0.8027, Validation Accuracy: 0.8054, Loss: 0.1968\n",
      "Epoch  13 Batch  200/538 - Train Accuracy: 0.8209, Validation Accuracy: 0.8196, Loss: 0.1892\n",
      "Epoch  13 Batch  300/538 - Train Accuracy: 0.8155, Validation Accuracy: 0.8336, Loss: 0.1941\n",
      "Epoch  13 Batch  400/538 - Train Accuracy: 0.8244, Validation Accuracy: 0.8288, Loss: 0.1857\n",
      "Epoch  13 Batch  500/538 - Train Accuracy: 0.8478, Validation Accuracy: 0.8230, Loss: 0.1560\n",
      "Epoch  14 Batch  100/538 - Train Accuracy: 0.8121, Validation Accuracy: 0.8338, Loss: 0.1687\n",
      "Epoch  14 Batch  200/538 - Train Accuracy: 0.8490, Validation Accuracy: 0.8310, Loss: 0.1579\n",
      "Epoch  14 Batch  300/538 - Train Accuracy: 0.8067, Validation Accuracy: 0.8384, Loss: 0.1629\n",
      "Epoch  14 Batch  400/538 - Train Accuracy: 0.8222, Validation Accuracy: 0.8427, Loss: 0.1635\n",
      "Epoch  14 Batch  500/538 - Train Accuracy: 0.8693, Validation Accuracy: 0.8294, Loss: 0.1361\n",
      "Epoch  15 Batch  100/538 - Train Accuracy: 0.8426, Validation Accuracy: 0.8366, Loss: 0.1424\n",
      "Epoch  15 Batch  200/538 - Train Accuracy: 0.8439, Validation Accuracy: 0.8345, Loss: 0.1601\n",
      "Epoch  15 Batch  300/538 - Train Accuracy: 0.8322, Validation Accuracy: 0.8498, Loss: 0.1412\n",
      "Epoch  15 Batch  400/538 - Train Accuracy: 0.8560, Validation Accuracy: 0.8439, Loss: 0.1317\n",
      "Epoch  15 Batch  500/538 - Train Accuracy: 0.8819, Validation Accuracy: 0.8533, Loss: 0.1110\n",
      "Epoch  16 Batch  100/538 - Train Accuracy: 0.8570, Validation Accuracy: 0.8548, Loss: 0.1142\n",
      "Epoch  16 Batch  200/538 - Train Accuracy: 0.8770, Validation Accuracy: 0.8505, Loss: 0.1140\n",
      "Epoch  16 Batch  300/538 - Train Accuracy: 0.8534, Validation Accuracy: 0.8610, Loss: 0.1149\n",
      "Epoch  16 Batch  400/538 - Train Accuracy: 0.8577, Validation Accuracy: 0.8681, Loss: 0.1105\n",
      "Epoch  16 Batch  500/538 - Train Accuracy: 0.9038, Validation Accuracy: 0.8700, Loss: 0.0857\n",
      "Epoch  17 Batch  100/538 - Train Accuracy: 0.8734, Validation Accuracy: 0.8761, Loss: 0.0937\n",
      "Epoch  17 Batch  200/538 - Train Accuracy: 0.8789, Validation Accuracy: 0.8752, Loss: 0.0943\n",
      "Epoch  17 Batch  300/538 - Train Accuracy: 0.8637, Validation Accuracy: 0.8904, Loss: 0.1003\n",
      "Epoch  17 Batch  400/538 - Train Accuracy: 0.8679, Validation Accuracy: 0.8821, Loss: 0.1033\n"
     ]
    },
    {
     "name": "stdout",
     "output_type": "stream",
     "text": [
      "Epoch  17 Batch  500/538 - Train Accuracy: 0.9041, Validation Accuracy: 0.8786, Loss: 0.0731\n",
      "Epoch  18 Batch  100/538 - Train Accuracy: 0.9033, Validation Accuracy: 0.8876, Loss: 0.0840\n",
      "Epoch  18 Batch  200/538 - Train Accuracy: 0.8828, Validation Accuracy: 0.8800, Loss: 0.0716\n",
      "Epoch  18 Batch  300/538 - Train Accuracy: 0.8748, Validation Accuracy: 0.8782, Loss: 0.0820\n",
      "Epoch  18 Batch  400/538 - Train Accuracy: 0.9022, Validation Accuracy: 0.8899, Loss: 0.0781\n",
      "Epoch  18 Batch  500/538 - Train Accuracy: 0.9148, Validation Accuracy: 0.8832, Loss: 0.0614\n",
      "Epoch  19 Batch  100/538 - Train Accuracy: 0.9338, Validation Accuracy: 0.8972, Loss: 0.0604\n",
      "Epoch  19 Batch  200/538 - Train Accuracy: 0.9260, Validation Accuracy: 0.8968, Loss: 0.0646\n",
      "Epoch  19 Batch  300/538 - Train Accuracy: 0.9156, Validation Accuracy: 0.9023, Loss: 0.0705\n",
      "Epoch  19 Batch  400/538 - Train Accuracy: 0.9116, Validation Accuracy: 0.9057, Loss: 0.0685\n",
      "Epoch  19 Batch  500/538 - Train Accuracy: 0.9338, Validation Accuracy: 0.9068, Loss: 0.0565\n",
      "Epoch  20 Batch  100/538 - Train Accuracy: 0.9350, Validation Accuracy: 0.9128, Loss: 0.0571\n",
      "Epoch  20 Batch  200/538 - Train Accuracy: 0.9322, Validation Accuracy: 0.9174, Loss: 0.0565\n",
      "Epoch  20 Batch  300/538 - Train Accuracy: 0.9161, Validation Accuracy: 0.9116, Loss: 0.0691\n",
      "Epoch  20 Batch  400/538 - Train Accuracy: 0.9366, Validation Accuracy: 0.9196, Loss: 0.0620\n",
      "Epoch  20 Batch  500/538 - Train Accuracy: 0.9403, Validation Accuracy: 0.9242, Loss: 0.0514\n",
      "Epoch  21 Batch  100/538 - Train Accuracy: 0.9479, Validation Accuracy: 0.9148, Loss: 0.0492\n",
      "Epoch  21 Batch  200/538 - Train Accuracy: 0.9410, Validation Accuracy: 0.9132, Loss: 0.0584\n",
      "Epoch  21 Batch  300/538 - Train Accuracy: 0.9280, Validation Accuracy: 0.9274, Loss: 0.0569\n",
      "Epoch  21 Batch  400/538 - Train Accuracy: 0.9390, Validation Accuracy: 0.9292, Loss: 0.0603\n",
      "Epoch  21 Batch  500/538 - Train Accuracy: 0.9482, Validation Accuracy: 0.9201, Loss: 0.0457\n",
      "Epoch  22 Batch  100/538 - Train Accuracy: 0.9512, Validation Accuracy: 0.9260, Loss: 0.0436\n",
      "Epoch  22 Batch  200/538 - Train Accuracy: 0.9535, Validation Accuracy: 0.9311, Loss: 0.0484\n",
      "Epoch  22 Batch  300/538 - Train Accuracy: 0.9276, Validation Accuracy: 0.9270, Loss: 0.0565\n",
      "Epoch  22 Batch  400/538 - Train Accuracy: 0.9345, Validation Accuracy: 0.9176, Loss: 0.0650\n",
      "Epoch  22 Batch  500/538 - Train Accuracy: 0.9487, Validation Accuracy: 0.9345, Loss: 0.0378\n",
      "Epoch  23 Batch  100/538 - Train Accuracy: 0.9514, Validation Accuracy: 0.9240, Loss: 0.0413\n",
      "Epoch  23 Batch  200/538 - Train Accuracy: 0.9557, Validation Accuracy: 0.9382, Loss: 0.0402\n",
      "Epoch  23 Batch  300/538 - Train Accuracy: 0.9353, Validation Accuracy: 0.9332, Loss: 0.0519\n",
      "Epoch  23 Batch  400/538 - Train Accuracy: 0.9436, Validation Accuracy: 0.9361, Loss: 0.0476\n",
      "Epoch  23 Batch  500/538 - Train Accuracy: 0.9490, Validation Accuracy: 0.9368, Loss: 0.0337\n",
      "Epoch  24 Batch  100/538 - Train Accuracy: 0.9498, Validation Accuracy: 0.9295, Loss: 0.0380\n",
      "Epoch  24 Batch  200/538 - Train Accuracy: 0.9580, Validation Accuracy: 0.9522, Loss: 0.0437\n",
      "Epoch  24 Batch  300/538 - Train Accuracy: 0.9438, Validation Accuracy: 0.9526, Loss: 0.0449\n",
      "Epoch  24 Batch  400/538 - Train Accuracy: 0.9487, Validation Accuracy: 0.9251, Loss: 0.0536\n",
      "Epoch  24 Batch  500/538 - Train Accuracy: 0.9535, Validation Accuracy: 0.9419, Loss: 0.0320\n",
      "Epoch  25 Batch  100/538 - Train Accuracy: 0.9492, Validation Accuracy: 0.9572, Loss: 0.0425\n",
      "Epoch  25 Batch  200/538 - Train Accuracy: 0.9572, Validation Accuracy: 0.9512, Loss: 0.0378\n",
      "Epoch  25 Batch  300/538 - Train Accuracy: 0.9427, Validation Accuracy: 0.9384, Loss: 0.0482\n",
      "Epoch  25 Batch  400/538 - Train Accuracy: 0.9565, Validation Accuracy: 0.9538, Loss: 0.0472\n",
      "Epoch  25 Batch  500/538 - Train Accuracy: 0.9583, Validation Accuracy: 0.9432, Loss: 0.0371\n",
      "Epoch  26 Batch  100/538 - Train Accuracy: 0.9451, Validation Accuracy: 0.9611, Loss: 0.0363\n",
      "Epoch  26 Batch  200/538 - Train Accuracy: 0.9627, Validation Accuracy: 0.9569, Loss: 0.0365\n",
      "Epoch  26 Batch  300/538 - Train Accuracy: 0.9485, Validation Accuracy: 0.9450, Loss: 0.0409\n",
      "Epoch  26 Batch  400/538 - Train Accuracy: 0.9591, Validation Accuracy: 0.9439, Loss: 0.0402\n",
      "Epoch  26 Batch  500/538 - Train Accuracy: 0.9652, Validation Accuracy: 0.9426, Loss: 0.0353\n",
      "Epoch  27 Batch  100/538 - Train Accuracy: 0.9531, Validation Accuracy: 0.9544, Loss: 0.0415\n",
      "Epoch  27 Batch  200/538 - Train Accuracy: 0.9643, Validation Accuracy: 0.9611, Loss: 0.0339\n",
      "Epoch  27 Batch  300/538 - Train Accuracy: 0.9539, Validation Accuracy: 0.9503, Loss: 0.0399\n",
      "Epoch  27 Batch  400/538 - Train Accuracy: 0.9570, Validation Accuracy: 0.9684, Loss: 0.0403\n",
      "Epoch  27 Batch  500/538 - Train Accuracy: 0.9664, Validation Accuracy: 0.9599, Loss: 0.0286\n",
      "Epoch  28 Batch  100/538 - Train Accuracy: 0.9598, Validation Accuracy: 0.9498, Loss: 0.0356\n",
      "Epoch  28 Batch  200/538 - Train Accuracy: 0.9707, Validation Accuracy: 0.9602, Loss: 0.0296\n",
      "Epoch  28 Batch  300/538 - Train Accuracy: 0.9436, Validation Accuracy: 0.9565, Loss: 0.0396\n",
      "Epoch  28 Batch  400/538 - Train Accuracy: 0.9656, Validation Accuracy: 0.9673, Loss: 0.0399\n",
      "Epoch  28 Batch  500/538 - Train Accuracy: 0.9672, Validation Accuracy: 0.9579, Loss: 0.0293\n",
      "Epoch  29 Batch  100/538 - Train Accuracy: 0.9506, Validation Accuracy: 0.9666, Loss: 0.0290\n",
      "Epoch  29 Batch  200/538 - Train Accuracy: 0.9715, Validation Accuracy: 0.9648, Loss: 0.0303\n",
      "Epoch  29 Batch  300/538 - Train Accuracy: 0.9474, Validation Accuracy: 0.9668, Loss: 0.0374\n",
      "Epoch  29 Batch  400/538 - Train Accuracy: 0.9706, Validation Accuracy: 0.9577, Loss: 0.0383\n",
      "Epoch  29 Batch  500/538 - Train Accuracy: 0.9711, Validation Accuracy: 0.9615, Loss: 0.0282\n",
      "Epoch  30 Batch  100/538 - Train Accuracy: 0.9607, Validation Accuracy: 0.9691, Loss: 0.0304\n",
      "Epoch  30 Batch  200/538 - Train Accuracy: 0.9629, Validation Accuracy: 0.9757, Loss: 0.0258\n",
      "Epoch  30 Batch  300/538 - Train Accuracy: 0.9617, Validation Accuracy: 0.9538, Loss: 0.0324\n",
      "Epoch  30 Batch  400/538 - Train Accuracy: 0.9695, Validation Accuracy: 0.9696, Loss: 0.0374\n",
      "Epoch  30 Batch  500/538 - Train Accuracy: 0.9712, Validation Accuracy: 0.9661, Loss: 0.0279\n",
      "Epoch  31 Batch  100/538 - Train Accuracy: 0.9527, Validation Accuracy: 0.9647, Loss: 0.0289\n",
      "Epoch  31 Batch  200/538 - Train Accuracy: 0.9672, Validation Accuracy: 0.9585, Loss: 0.0279\n",
      "Epoch  31 Batch  300/538 - Train Accuracy: 0.9561, Validation Accuracy: 0.9636, Loss: 0.0327\n",
      "Epoch  31 Batch  400/538 - Train Accuracy: 0.9721, Validation Accuracy: 0.9648, Loss: 0.0359\n",
      "Epoch  31 Batch  500/538 - Train Accuracy: 0.9636, Validation Accuracy: 0.9538, Loss: 0.0355\n",
      "Epoch  32 Batch  100/538 - Train Accuracy: 0.9627, Validation Accuracy: 0.9751, Loss: 0.0276\n",
      "Epoch  32 Batch  200/538 - Train Accuracy: 0.9609, Validation Accuracy: 0.9668, Loss: 0.0272\n",
      "Epoch  32 Batch  300/538 - Train Accuracy: 0.9576, Validation Accuracy: 0.9588, Loss: 0.0318\n",
      "Epoch  32 Batch  400/538 - Train Accuracy: 0.9760, Validation Accuracy: 0.9654, Loss: 0.0328\n",
      "Epoch  32 Batch  500/538 - Train Accuracy: 0.9696, Validation Accuracy: 0.9606, Loss: 0.0247\n",
      "Epoch  33 Batch  100/538 - Train Accuracy: 0.9672, Validation Accuracy: 0.9728, Loss: 0.0269\n",
      "Epoch  33 Batch  200/538 - Train Accuracy: 0.9744, Validation Accuracy: 0.9735, Loss: 0.0249\n",
      "Epoch  33 Batch  300/538 - Train Accuracy: 0.9531, Validation Accuracy: 0.9732, Loss: 0.0346\n",
      "Epoch  33 Batch  400/538 - Train Accuracy: 0.9734, Validation Accuracy: 0.9654, Loss: 0.0288\n",
      "Epoch  33 Batch  500/538 - Train Accuracy: 0.9728, Validation Accuracy: 0.9645, Loss: 0.0234\n",
      "Epoch  34 Batch  100/538 - Train Accuracy: 0.9711, Validation Accuracy: 0.9760, Loss: 0.0245\n",
      "Epoch  34 Batch  200/538 - Train Accuracy: 0.9750, Validation Accuracy: 0.9743, Loss: 0.0244\n",
      "Epoch  34 Batch  300/538 - Train Accuracy: 0.9604, Validation Accuracy: 0.9707, Loss: 0.0299\n",
      "Epoch  34 Batch  400/538 - Train Accuracy: 0.9669, Validation Accuracy: 0.9647, Loss: 0.0320\n",
      "Epoch  34 Batch  500/538 - Train Accuracy: 0.9719, Validation Accuracy: 0.9634, Loss: 0.0233\n",
      "Epoch  35 Batch  100/538 - Train Accuracy: 0.9723, Validation Accuracy: 0.9718, Loss: 0.0259\n",
      "Epoch  35 Batch  200/538 - Train Accuracy: 0.9721, Validation Accuracy: 0.9670, Loss: 0.0243\n",
      "Epoch  35 Batch  300/538 - Train Accuracy: 0.9589, Validation Accuracy: 0.9799, Loss: 0.0279\n"
     ]
    },
    {
     "name": "stdout",
     "output_type": "stream",
     "text": [
      "Epoch  35 Batch  400/538 - Train Accuracy: 0.9708, Validation Accuracy: 0.9645, Loss: 0.0322\n",
      "Epoch  35 Batch  500/538 - Train Accuracy: 0.9785, Validation Accuracy: 0.9666, Loss: 0.0210\n",
      "Epoch  36 Batch  100/538 - Train Accuracy: 0.9789, Validation Accuracy: 0.9620, Loss: 0.0230\n",
      "Epoch  36 Batch  200/538 - Train Accuracy: 0.9768, Validation Accuracy: 0.9700, Loss: 0.0262\n",
      "Epoch  36 Batch  300/538 - Train Accuracy: 0.9743, Validation Accuracy: 0.9810, Loss: 0.0262\n",
      "Epoch  36 Batch  400/538 - Train Accuracy: 0.9775, Validation Accuracy: 0.9689, Loss: 0.0321\n",
      "Epoch  36 Batch  500/538 - Train Accuracy: 0.9712, Validation Accuracy: 0.9663, Loss: 0.0208\n",
      "Epoch  37 Batch  100/538 - Train Accuracy: 0.9678, Validation Accuracy: 0.9670, Loss: 0.0223\n",
      "Epoch  37 Batch  200/538 - Train Accuracy: 0.9691, Validation Accuracy: 0.9691, Loss: 0.0223\n",
      "Epoch  37 Batch  300/538 - Train Accuracy: 0.9712, Validation Accuracy: 0.9730, Loss: 0.0271\n",
      "Epoch  37 Batch  400/538 - Train Accuracy: 0.9747, Validation Accuracy: 0.9666, Loss: 0.0262\n",
      "Epoch  37 Batch  500/538 - Train Accuracy: 0.9751, Validation Accuracy: 0.9762, Loss: 0.0226\n",
      "Epoch  38 Batch  100/538 - Train Accuracy: 0.9770, Validation Accuracy: 0.9775, Loss: 0.0233\n",
      "Epoch  38 Batch  200/538 - Train Accuracy: 0.9783, Validation Accuracy: 0.9783, Loss: 0.0213\n",
      "Epoch  38 Batch  300/538 - Train Accuracy: 0.9699, Validation Accuracy: 0.9743, Loss: 0.0218\n",
      "Epoch  38 Batch  400/538 - Train Accuracy: 0.9725, Validation Accuracy: 0.9680, Loss: 0.0227\n",
      "Epoch  38 Batch  500/538 - Train Accuracy: 0.9801, Validation Accuracy: 0.9688, Loss: 0.0172\n",
      "Epoch  39 Batch  100/538 - Train Accuracy: 0.9736, Validation Accuracy: 0.9698, Loss: 0.0198\n",
      "Epoch  39 Batch  200/538 - Train Accuracy: 0.9744, Validation Accuracy: 0.9751, Loss: 0.0234\n",
      "Epoch  39 Batch  300/538 - Train Accuracy: 0.9701, Validation Accuracy: 0.9718, Loss: 0.0234\n",
      "Epoch  39 Batch  400/538 - Train Accuracy: 0.9842, Validation Accuracy: 0.9689, Loss: 0.0244\n",
      "Epoch  39 Batch  500/538 - Train Accuracy: 0.9822, Validation Accuracy: 0.9686, Loss: 0.0143\n",
      "Epoch  40 Batch  100/538 - Train Accuracy: 0.9633, Validation Accuracy: 0.9709, Loss: 0.0211\n",
      "Epoch  40 Batch  200/538 - Train Accuracy: 0.9711, Validation Accuracy: 0.9652, Loss: 0.0209\n",
      "Epoch  40 Batch  300/538 - Train Accuracy: 0.9736, Validation Accuracy: 0.9750, Loss: 0.0235\n",
      "Epoch  40 Batch  400/538 - Train Accuracy: 0.9827, Validation Accuracy: 0.9714, Loss: 0.0249\n",
      "Epoch  40 Batch  500/538 - Train Accuracy: 0.9799, Validation Accuracy: 0.9670, Loss: 0.0164\n",
      "Epoch  41 Batch  100/538 - Train Accuracy: 0.9727, Validation Accuracy: 0.9718, Loss: 0.0190\n",
      "Epoch  41 Batch  200/538 - Train Accuracy: 0.9779, Validation Accuracy: 0.9741, Loss: 0.0196\n",
      "Epoch  41 Batch  300/538 - Train Accuracy: 0.9710, Validation Accuracy: 0.9677, Loss: 0.0215\n",
      "Epoch  41 Batch  400/538 - Train Accuracy: 0.9836, Validation Accuracy: 0.9709, Loss: 0.0265\n",
      "Epoch  41 Batch  500/538 - Train Accuracy: 0.9805, Validation Accuracy: 0.9684, Loss: 0.0182\n",
      "Epoch  42 Batch  100/538 - Train Accuracy: 0.9771, Validation Accuracy: 0.9709, Loss: 0.0180\n",
      "Epoch  42 Batch  200/538 - Train Accuracy: 0.9777, Validation Accuracy: 0.9748, Loss: 0.0189\n",
      "Epoch  42 Batch  300/538 - Train Accuracy: 0.9745, Validation Accuracy: 0.9755, Loss: 0.0249\n",
      "Epoch  42 Batch  400/538 - Train Accuracy: 0.9818, Validation Accuracy: 0.9654, Loss: 0.0240\n",
      "Epoch  42 Batch  500/538 - Train Accuracy: 0.9783, Validation Accuracy: 0.9654, Loss: 0.0188\n",
      "Epoch  43 Batch  100/538 - Train Accuracy: 0.9803, Validation Accuracy: 0.9735, Loss: 0.0210\n",
      "Epoch  43 Batch  200/538 - Train Accuracy: 0.9787, Validation Accuracy: 0.9680, Loss: 0.0166\n",
      "Epoch  43 Batch  300/538 - Train Accuracy: 0.9799, Validation Accuracy: 0.9703, Loss: 0.0206\n",
      "Epoch  43 Batch  400/538 - Train Accuracy: 0.9833, Validation Accuracy: 0.9711, Loss: 0.0237\n",
      "Epoch  43 Batch  500/538 - Train Accuracy: 0.9842, Validation Accuracy: 0.9672, Loss: 0.0197\n",
      "Epoch  44 Batch  100/538 - Train Accuracy: 0.9750, Validation Accuracy: 0.9728, Loss: 0.0148\n",
      "Epoch  44 Batch  200/538 - Train Accuracy: 0.9834, Validation Accuracy: 0.9732, Loss: 0.0173\n",
      "Epoch  44 Batch  300/538 - Train Accuracy: 0.9730, Validation Accuracy: 0.9672, Loss: 0.0210\n",
      "Epoch  44 Batch  400/538 - Train Accuracy: 0.9834, Validation Accuracy: 0.9686, Loss: 0.0206\n",
      "Epoch  44 Batch  500/538 - Train Accuracy: 0.9787, Validation Accuracy: 0.9691, Loss: 0.0187\n",
      "Epoch  45 Batch  100/538 - Train Accuracy: 0.9734, Validation Accuracy: 0.9716, Loss: 0.0215\n",
      "Epoch  45 Batch  200/538 - Train Accuracy: 0.9838, Validation Accuracy: 0.9789, Loss: 0.0166\n",
      "Epoch  45 Batch  300/538 - Train Accuracy: 0.9814, Validation Accuracy: 0.9746, Loss: 0.0210\n",
      "Epoch  45 Batch  400/538 - Train Accuracy: 0.9758, Validation Accuracy: 0.9632, Loss: 0.0265\n",
      "Epoch  45 Batch  500/538 - Train Accuracy: 0.9817, Validation Accuracy: 0.9657, Loss: 0.0152\n",
      "Epoch  46 Batch  100/538 - Train Accuracy: 0.9859, Validation Accuracy: 0.9709, Loss: 0.0184\n",
      "Epoch  46 Batch  200/538 - Train Accuracy: 0.9742, Validation Accuracy: 0.9693, Loss: 0.0162\n",
      "Epoch  46 Batch  300/538 - Train Accuracy: 0.9836, Validation Accuracy: 0.9675, Loss: 0.0216\n",
      "Epoch  46 Batch  400/538 - Train Accuracy: 0.9810, Validation Accuracy: 0.9766, Loss: 0.0234\n",
      "Epoch  46 Batch  500/538 - Train Accuracy: 0.9869, Validation Accuracy: 0.9650, Loss: 0.0137\n",
      "Epoch  47 Batch  100/538 - Train Accuracy: 0.9818, Validation Accuracy: 0.9673, Loss: 0.0178\n",
      "Epoch  47 Batch  200/538 - Train Accuracy: 0.9818, Validation Accuracy: 0.9775, Loss: 0.0151\n",
      "Epoch  47 Batch  300/538 - Train Accuracy: 0.9801, Validation Accuracy: 0.9778, Loss: 0.0183\n",
      "Epoch  47 Batch  400/538 - Train Accuracy: 0.9877, Validation Accuracy: 0.9707, Loss: 0.0174\n",
      "Epoch  47 Batch  500/538 - Train Accuracy: 0.9849, Validation Accuracy: 0.9709, Loss: 0.0136\n",
      "Epoch  48 Batch  100/538 - Train Accuracy: 0.9854, Validation Accuracy: 0.9707, Loss: 0.0149\n",
      "Epoch  48 Batch  200/538 - Train Accuracy: 0.9826, Validation Accuracy: 0.9703, Loss: 0.0164\n",
      "Epoch  48 Batch  300/538 - Train Accuracy: 0.9771, Validation Accuracy: 0.9801, Loss: 0.0189\n",
      "Epoch  48 Batch  400/538 - Train Accuracy: 0.9874, Validation Accuracy: 0.9702, Loss: 0.0175\n",
      "Epoch  48 Batch  500/538 - Train Accuracy: 0.9837, Validation Accuracy: 0.9682, Loss: 0.0148\n",
      "Epoch  49 Batch  100/538 - Train Accuracy: 0.9828, Validation Accuracy: 0.9700, Loss: 0.0170\n",
      "Epoch  49 Batch  200/538 - Train Accuracy: 0.9854, Validation Accuracy: 0.9734, Loss: 0.0176\n",
      "Epoch  49 Batch  300/538 - Train Accuracy: 0.9831, Validation Accuracy: 0.9721, Loss: 0.0191\n",
      "Epoch  49 Batch  400/538 - Train Accuracy: 0.9741, Validation Accuracy: 0.9799, Loss: 0.0178\n",
      "Epoch  49 Batch  500/538 - Train Accuracy: 0.9812, Validation Accuracy: 0.9728, Loss: 0.0154\n",
      "Model Trained and Saved\n"
     ]
    }
   ],
   "source": [
    "\"\"\"\n",
    "DON'T MODIFY ANYTHING IN THIS CELL\n",
    "\"\"\"\n",
    "def get_accuracy(target, logits):\n",
    "    \"\"\"\n",
    "    Calculate accuracy\n",
    "    \"\"\"\n",
    "    max_seq = max(target.shape[1], logits.shape[1])\n",
    "    if max_seq - target.shape[1]:\n",
    "        target = np.pad(\n",
    "            target,\n",
    "            [(0,0),(0,max_seq - target.shape[1])],\n",
    "            'constant')\n",
    "    if max_seq - logits.shape[1]:\n",
    "        logits = np.pad(\n",
    "            logits,\n",
    "            [(0,0),(0,max_seq - logits.shape[1])],\n",
    "            'constant')\n",
    "\n",
    "    return np.mean(np.equal(target, logits))\n",
    "\n",
    "# Split data to training and validation sets\n",
    "train_source = source_int_text[batch_size:]\n",
    "train_target = target_int_text[batch_size:]\n",
    "valid_source = source_int_text[:batch_size]\n",
    "valid_target = target_int_text[:batch_size]\n",
    "(valid_sources_batch, valid_targets_batch, valid_sources_lengths, valid_targets_lengths ) = next(get_batches(valid_source,\n",
    "                                                                                                             valid_target,\n",
    "                                                                                                             batch_size,\n",
    "                                                                                                             source_vocab_to_int['<PAD>'],\n",
    "                                                                                                             target_vocab_to_int['<PAD>']))                                                                                                  \n",
    "with tf.Session(graph=train_graph) as sess:\n",
    "    sess.run(tf.global_variables_initializer())\n",
    "\n",
    "    for epoch_i in range(epochs):\n",
    "        for batch_i, (source_batch, target_batch, sources_lengths, targets_lengths) in enumerate(\n",
    "                get_batches(train_source, train_target, batch_size,\n",
    "                            source_vocab_to_int['<PAD>'],\n",
    "                            target_vocab_to_int['<PAD>'])):\n",
    "\n",
    "            _, loss = sess.run(\n",
    "                [train_op, cost],\n",
    "                {input_data: source_batch,\n",
    "                 targets: target_batch,\n",
    "                 lr: learning_rate,\n",
    "                 target_sequence_length: targets_lengths,\n",
    "                 source_sequence_length: sources_lengths,\n",
    "                 keep_prob: keep_probability})\n",
    "\n",
    "\n",
    "            if batch_i % display_step == 0 and batch_i > 0:\n",
    "\n",
    "\n",
    "                batch_train_logits = sess.run(\n",
    "                    inference_logits,\n",
    "                    {input_data: source_batch,\n",
    "                     source_sequence_length: sources_lengths,\n",
    "                     target_sequence_length: targets_lengths,\n",
    "                     keep_prob: 1.0})\n",
    "\n",
    "\n",
    "                batch_valid_logits = sess.run(\n",
    "                    inference_logits,\n",
    "                    {input_data: valid_sources_batch,\n",
    "                     source_sequence_length: valid_sources_lengths,\n",
    "                     target_sequence_length: valid_targets_lengths,\n",
    "                     keep_prob: 1.0})\n",
    "\n",
    "                train_acc = get_accuracy(target_batch, batch_train_logits)\n",
    "\n",
    "                valid_acc = get_accuracy(valid_targets_batch, batch_valid_logits)\n",
    "\n",
    "                print('Epoch {:>3} Batch {:>4}/{} - Train Accuracy: {:>6.4f}, Validation Accuracy: {:>6.4f}, Loss: {:>6.4f}'\n",
    "                      .format(epoch_i, batch_i, len(source_int_text) // batch_size, train_acc, valid_acc, loss))\n",
    "\n",
    "    # Save Model\n",
    "    saver = tf.train.Saver()\n",
    "    saver.save(sess, save_path)\n",
    "    print('Model Trained and Saved')"
   ]
  },
  {
   "cell_type": "markdown",
   "metadata": {},
   "source": [
    "### Save Parameters\n",
    "Save the `batch_size` and `save_path` parameters for inference."
   ]
  },
  {
   "cell_type": "code",
   "execution_count": 18,
   "metadata": {
    "collapsed": true
   },
   "outputs": [],
   "source": [
    "\"\"\"\n",
    "DON'T MODIFY ANYTHING IN THIS CELL\n",
    "\"\"\"\n",
    "# Save parameters for checkpoint\n",
    "helper.save_params(save_path)"
   ]
  },
  {
   "cell_type": "markdown",
   "metadata": {},
   "source": [
    "# Checkpoint"
   ]
  },
  {
   "cell_type": "code",
   "execution_count": 19,
   "metadata": {
    "collapsed": true
   },
   "outputs": [],
   "source": [
    "\"\"\"\n",
    "DON'T MODIFY ANYTHING IN THIS CELL\n",
    "\"\"\"\n",
    "import tensorflow as tf\n",
    "import numpy as np\n",
    "import helper\n",
    "import problem_unittests as tests\n",
    "\n",
    "_, (source_vocab_to_int, target_vocab_to_int), (source_int_to_vocab, target_int_to_vocab) = helper.load_preprocess()\n",
    "load_path = helper.load_params()"
   ]
  },
  {
   "cell_type": "markdown",
   "metadata": {},
   "source": [
    "## Sentence to Sequence\n",
    "To feed a sentence into the model for translation, you first need to preprocess it.  Implement the function `sentence_to_seq()` to preprocess new sentences.\n",
    "\n",
    "- Convert the sentence to lowercase\n",
    "- Convert words into ids using `vocab_to_int`\n",
    " - Convert words not in the vocabulary, to the `<UNK>` word id."
   ]
  },
  {
   "cell_type": "code",
   "execution_count": 20,
   "metadata": {},
   "outputs": [
    {
     "name": "stdout",
     "output_type": "stream",
     "text": [
      "Tests Passed\n"
     ]
    }
   ],
   "source": [
    "def sentence_to_seq(sentence, vocab_to_int):\n",
    "    \"\"\"\n",
    "    Convert a sentence to a sequence of ids\n",
    "    :param sentence: String\n",
    "    :param vocab_to_int: Dictionary to go from the words to an id\n",
    "    :return: List of word ids\n",
    "    \"\"\"\n",
    "    return [vocab_to_int.get(w.lower(), vocab_to_int['<UNK>']) for w in sentence.split()]\n",
    "\n",
    "\n",
    "\"\"\"\n",
    "DON'T MODIFY ANYTHING IN THIS CELL THAT IS BELOW THIS LINE\n",
    "\"\"\"\n",
    "tests.test_sentence_to_seq(sentence_to_seq)"
   ]
  },
  {
   "cell_type": "markdown",
   "metadata": {},
   "source": [
    "## Translate\n",
    "This will translate `translate_sentence` from English to French."
   ]
  },
  {
   "cell_type": "code",
   "execution_count": 21,
   "metadata": {},
   "outputs": [
    {
     "name": "stdout",
     "output_type": "stream",
     "text": [
      "INFO:tensorflow:Restoring parameters from checkpoints/dev\n",
      "Input\n",
      "  Word Ids:      [143, 162, 229, 176, 209, 95, 26]\n",
      "  English Words: ['he', 'saw', 'a', 'old', 'yellow', 'truck', '.']\n",
      "\n",
      "Prediction\n",
      "  Word Ids:      [194, 13, 13, 0, 0, 0, 0, 0, 0, 0, 0, 0, 0, 0]\n",
      "  French Words: douce calme calme <PAD> <PAD> <PAD> <PAD> <PAD> <PAD> <PAD> <PAD> <PAD> <PAD> <PAD>\n"
     ]
    }
   ],
   "source": [
    "translate_sentence = 'he saw a old yellow truck .'\n",
    "\n",
    "\n",
    "\"\"\"\n",
    "DON'T MODIFY ANYTHING IN THIS CELL\n",
    "\"\"\"\n",
    "translate_sentence = sentence_to_seq(translate_sentence, source_vocab_to_int)\n",
    "\n",
    "loaded_graph = tf.Graph()\n",
    "with tf.Session(graph=loaded_graph) as sess:\n",
    "    # Load saved model\n",
    "    loader = tf.train.import_meta_graph(load_path + '.meta')\n",
    "    loader.restore(sess, load_path)\n",
    "\n",
    "    input_data = loaded_graph.get_tensor_by_name('input:0')\n",
    "    logits = loaded_graph.get_tensor_by_name('predictions:0')\n",
    "    target_sequence_length = loaded_graph.get_tensor_by_name('target_sequence_length:0')\n",
    "    source_sequence_length = loaded_graph.get_tensor_by_name('source_sequence_length:0')\n",
    "    keep_prob = loaded_graph.get_tensor_by_name('keep_prob:0')\n",
    "\n",
    "    translate_logits = sess.run(logits, {input_data: [translate_sentence]*batch_size,\n",
    "                                         target_sequence_length: [len(translate_sentence)*2]*batch_size,\n",
    "                                         source_sequence_length: [len(translate_sentence)]*batch_size,\n",
    "                                         keep_prob: 1.0})[0]\n",
    "\n",
    "print('Input')\n",
    "print('  Word Ids:      {}'.format([i for i in translate_sentence]))\n",
    "print('  English Words: {}'.format([source_int_to_vocab[i] for i in translate_sentence]))\n",
    "\n",
    "print('\\nPrediction')\n",
    "print('  Word Ids:      {}'.format([i for i in translate_logits]))\n",
    "print('  French Words: {}'.format(\" \".join([target_int_to_vocab[i] for i in translate_logits])))\n"
   ]
  },
  {
   "cell_type": "markdown",
   "metadata": {},
   "source": [
    "## Imperfect Translation\n",
    "You might notice that some sentences translate better than others.  Since the dataset you're using only has a vocabulary of 227 English words of the thousands that you use, you're only going to see good results using these words.  For this project, you don't need a perfect translation. However, if you want to create a better translation model, you'll need better data.\n",
    "\n",
    "You can train on the [WMT10 French-English corpus](http://www.statmt.org/wmt10/training-giga-fren.tar).  This dataset has more vocabulary and richer in topics discussed.  However, this will take you days to train, so make sure you've a GPU and the neural network is performing well on dataset we provided.  Just make sure you play with the WMT10 corpus after you've submitted this project.\n",
    "## Submitting This Project\n",
    "When submitting this project, make sure to run all the cells before saving the notebook. Save the notebook file as \"dlnd_language_translation.ipynb\" and save it as a HTML file under \"File\" -> \"Download as\". Include the \"helper.py\" and \"problem_unittests.py\" files in your submission."
   ]
  }
 ],
 "metadata": {
  "anaconda-cloud": {},
  "kernelspec": {
   "display_name": "Python 3",
   "language": "python",
   "name": "python3"
  },
  "language_info": {
   "codemirror_mode": {
    "name": "ipython",
    "version": 3
   },
   "file_extension": ".py",
   "mimetype": "text/x-python",
   "name": "python",
   "nbconvert_exporter": "python",
   "pygments_lexer": "ipython3",
   "version": "3.6.1"
  }
 },
 "nbformat": 4,
 "nbformat_minor": 1
}
